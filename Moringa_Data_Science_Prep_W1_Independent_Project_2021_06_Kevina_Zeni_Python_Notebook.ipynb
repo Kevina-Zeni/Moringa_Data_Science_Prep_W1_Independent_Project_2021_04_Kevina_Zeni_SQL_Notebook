{
  "nbformat": 4,
  "nbformat_minor": 0,
  "metadata": {
    "colab": {
      "name": "Moringa_Data_Science_Prep_W1_Independent_Project_2021_06_Kevina_Zeni_Python_Notebook.ipynb",
      "provenance": []
    },
    "kernelspec": {
      "name": "python3",
      "display_name": "Python 3"
    },
    "language_info": {
      "name": "python"
    }
  },
  "cells": [
    {
      "cell_type": "markdown",
      "metadata": {
        "id": "QqNiaAs42TLp"
      },
      "source": [
        "In this section, you will be required to create several python programs that should be able to perform the given operations then, display the results of the operations.\n",
        "\n",
        "Take in two values from a user (both in pounds) then convert those values to kilograms.\n",
        "Perform the sum of the values.\n",
        "Perform the average of the values.\n",
        "Find the difference between both values.  \n",
        "Find the quotient when one value is divided by the other.\n",
        "Determine and print out whether any of the numbers are even or add.\n",
        "Have comments applied appropriately.\n",
        "Deliverable\n",
        "\n",
        "You will create a Colaboratory Notebook that will contain your responses to the above questions.\n",
        "Use the following naming convention for the above Google Colaboratory Notebook,\n",
        "\"Moringa_Data_Science_Prep_W1_Independent_Project_2019_06_FirstName_LastName_Python_Notebook\"\n",
        "Do not clear your Notebook consoles upon completion of this deliverable.\n",
        "Have the above document put in one folder that you will submit together with the other deliverables of this Independent Project.\n"
      ]
    },
    {
      "cell_type": "code",
      "metadata": {
        "colab": {
          "base_uri": "https://localhost:8080/"
        },
        "id": "z3oGw8Kz2ps-",
        "outputId": "2bce35c9-035b-4660-80ef-0591a0d58de6"
      },
      "source": [
        "#Take in two values from a user (both in pounds) then convert those values to kilograms. Perform the sum of the values. Perform the average of the values. Find the difference between both values.\n",
        "#Use * to multiply variables\n",
        "#Use + to add the variables\n",
        "#Use - to find the difference\n",
        "\n",
        "weight_yesterday = int(input(\"Enter yesterday's weight in lbs: \"))\n",
        "weight_today = int(input(\"Enter today's weight in lbs: \"))\n",
        "\n",
        "weight_yesterday_kgs = weight_yesterday * 0.45\n",
        "weight_today_kgs = weight_today * 0.45\n",
        "\n",
        "sum_of_weights = weight_yesterday_kgs + weight_today_kgs\n",
        "\n",
        "ave_of_weights = (sum_of_weights)//2\n",
        "\n",
        "diff_of_weights = weight_yesterday_kgs - weight_today_kgs\n",
        "\n",
        "#print(f'sum of weights in kgs is {sum_of_weights}') \n",
        "#print(f'diff in weights in kgs is {diff_of_weights}') \n",
        "\n",
        "\n"
      ],
      "execution_count": null,
      "outputs": [
        {
          "output_type": "stream",
          "text": [
            "Enter yesterday's weight in lbs: 8\n",
            "Enter today's weight in lbs: 7\n"
          ],
          "name": "stdout"
        }
      ]
    },
    {
      "cell_type": "code",
      "metadata": {
        "colab": {
          "base_uri": "https://localhost:8080/"
        },
        "id": "6drXH2jRDRec",
        "outputId": "9932f438-1cce-44de-8c38-402d5258a0f3"
      },
      "source": [
        "##Find the quotient when one value is divided by the other.  Have comments applied appropriately.\n",
        "#using figures from user input\n",
        "#quo for quotient \n",
        "#Either use %% or // OR inbuild divmod()\n",
        "#output(Quotient,Remainder)\n",
        "quo = divmod(weight_yesterday, weight_today)\n",
        "print(quo)\n",
        "\n",
        "\n"
      ],
      "execution_count": null,
      "outputs": [
        {
          "output_type": "stream",
          "text": [
            "(1, 1)\n"
          ],
          "name": "stdout"
        }
      ]
    },
    {
      "cell_type": "code",
      "metadata": {
        "colab": {
          "base_uri": "https://localhost:8080/"
        },
        "id": "05K36m4jGDgt",
        "outputId": "51567d8d-edc6-41d8-d81b-cdf133951c07"
      },
      "source": [
        "#Determine and print out whether any of the numbers are even or odd.\n",
        "#Using user input\n",
        "\n",
        "if (weight_today % 2) == 0:\n",
        " print(f\"{weight_today} is an even number\")\n",
        "else:\n",
        "  print(f\"{weight_today} is an odd number\") \n",
        "if (weight_yesterday % 2) == 0:\n",
        "  print(f\"{weight_yesterday} is an even number\")\n",
        "else:\n",
        "  print(f\"{weight_yesterday} is an odd number\")\n",
        "\n",
        "\n"
      ],
      "execution_count": null,
      "outputs": [
        {
          "output_type": "stream",
          "text": [
            "7 is an odd number\n",
            "8 is an even number\n"
          ],
          "name": "stdout"
        }
      ]
    },
    {
      "cell_type": "code",
      "metadata": {
        "colab": {
          "base_uri": "https://localhost:8080/"
        },
        "id": "tdHk7C2GJvWH",
        "outputId": "c28da336-6fc1-4d03-9240-7310c2c70bf7"
      },
      "source": [
        "#program that determines weight loss or gain from the two values the user input\n",
        "weight_lost_kgs = abs(weight_yesterday_kgs - weight_today_kgs)\n",
        "weight_gained_kgs = abs(weight_today_kgs - weight_yesterday_kgs)\n",
        "if weight_yesterday_kgs < weight_today_kgs:\n",
        "  print(f\"You have lost {weight_lost_kgs} kgs\")\n",
        "elif weight_yesterday_kgs > weight_today_kgs:\n",
        " print(f\"You have gained {weight_gained_kgs} kgs\")\n"
      ],
      "execution_count": null,
      "outputs": [
        {
          "output_type": "stream",
          "text": [
            "You have gained 0.4500000000000002 kgs\n"
          ],
          "name": "stdout"
        }
      ]
    }
  ]
}